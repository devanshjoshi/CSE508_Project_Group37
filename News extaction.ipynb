{
 "cells": [
  {
   "cell_type": "code",
   "execution_count": 4,
   "metadata": {},
   "outputs": [
    {
     "name": "stdout",
     "output_type": "stream",
     "text": [
      "<Response [404]>\n"
     ]
    }
   ],
   "source": [
    "\n",
    "# Set the start and end dates to scrape news articles for\n",
    "start_date = \"2015-01-01\"\n",
    "end_date = \"2023-05-04\"\n",
    "\n",
    "# Define the Google Finance URL with the search parameters\n",
    "url = f\"https://www.google.com/finance/company_news?q=AAPL&startdate={start_date}&enddate={end_date}\"\n",
    "\n",
    "# Send a request to the URL and get the page content\n",
    "response = requests.get(url)\n",
    "soup = BeautifulSoup(response.content, \"html.parser\")\n",
    "\n",
    "print(response)\n",
    "soup = BeautifulSoup(response.content, \"html.parser\")\n",
    "\n",
    "# Find all news article links on the page\n",
    "article_links = soup.find_all(\"a\", class_=\"js-content-viewer\")\n",
    "\n",
    "# Print the headlines and URLs of each news article\n",
    "for link in article_links:\n",
    "    headline = link.text.strip()\n",
    "    article_url = link[\"href\"]\n",
    "    print(headline)\n",
    "    print(article_url)\n",
    "    print(\"\\n\")\n"
   ]
  },
  {
   "cell_type": "code",
   "execution_count": null,
   "metadata": {},
   "outputs": [],
   "source": []
  }
 ],
 "metadata": {
  "kernelspec": {
   "display_name": "Python 3",
   "language": "python",
   "name": "python3"
  },
  "language_info": {
   "codemirror_mode": {
    "name": "ipython",
    "version": 3
   },
   "file_extension": ".py",
   "mimetype": "text/x-python",
   "name": "python",
   "nbconvert_exporter": "python",
   "pygments_lexer": "ipython3",
   "version": "3.8.3"
  }
 },
 "nbformat": 4,
 "nbformat_minor": 4
}
