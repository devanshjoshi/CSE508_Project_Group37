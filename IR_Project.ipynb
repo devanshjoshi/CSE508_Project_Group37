{
 "cells": [
  {
   "cell_type": "code",
   "execution_count": 1,
   "id": "c0fb6904",
   "metadata": {},
   "outputs": [],
   "source": [
    "import pandas_datareader.data as web\n",
    "import math\n",
    "import matplotlib.pyplot as plt\n",
    "import pandas as pd\n",
    "import numpy as np\n",
    "from hmmlearn import hmm\n",
    "\n",
    "\n",
    "\n"
   ]
  },
  {
   "cell_type": "code",
   "execution_count": 2,
   "id": "106e1c12",
   "metadata": {},
   "outputs": [],
   "source": [
    "\n",
    "df=pd.read_excel(r'/Users/devanshjoshi/Desktop/KOTAK/Data_Nifty.xlsx')\n",
    "dates=df['Date']\n",
    "x=df['Close']\n",
    "x=x.to_numpy()\n"
   ]
  },
  {
   "cell_type": "code",
   "execution_count": 3,
   "id": "61ff2c69",
   "metadata": {},
   "outputs": [],
   "source": [
    "high=x[0]\n",
    "low=x[0]\n",
    "returns=[]\n",
    "tmv=[]\n",
    "threshold=0.056\n",
    "time=0\n",
    "up=0\n",
    "down=0\n",
    "dc=0\n",
    "time_high=0\n",
    "time_low=0\n",
    "first_time=0\n",
    "for i in range(1,len(x)):\n",
    "    time=time+1\n",
    "    if(up==0 and down==0):\n",
    "        if(x[i]>=(1+threshold)*high):\n",
    "            up=1\n",
    "            down=0\n",
    "            high=x[i]\n",
    "            time_high=time\n",
    "            first_time=time\n",
    "        elif(x[i]<=(1-threshold)*low):\n",
    "            down=1\n",
    "            up=0\n",
    "            low=x[i]\n",
    "            time_low=time\n",
    "            first_time=time\n",
    "        else:\n",
    "            pass\n",
    "    elif(up==1 and dc==0):\n",
    "        if(x[i]>=(1+threshold)*high):\n",
    "            up=1\n",
    "            down=0\n",
    "            high=x[i]\n",
    "            time_high=time\n",
    "        elif(x[i]<=(1-threshold)*high):\n",
    "            dc=1\n",
    "            down=1\n",
    "            up=0\n",
    "            low=x[i]\n",
    "            time_low=time\n",
    "        else:\n",
    "            pass\n",
    "    elif(down==1 and dc==0):\n",
    "        if(x[i]<=(1-threshold)*low):\n",
    "            up=0\n",
    "            down=1\n",
    "            low=x[i]\n",
    "            time_low=time\n",
    "        elif(x[i]>=(1+threshold)*low):\n",
    "            dc=1\n",
    "            down=0\n",
    "            up=1\n",
    "            high=x[i]\n",
    "            time_high=time\n",
    "        else:\n",
    "            pass\n",
    "    elif(up==1 and dc==1):\n",
    "        if(x[i]>=(1+threshold)*high):\n",
    "            up=1\n",
    "            down=0\n",
    "            high=x[i]\n",
    "            time_high=time\n",
    "        elif(x[i]<=(1-threshold)*high):\n",
    "\n",
    "            \n",
    "            t_bw_trend=abs(time_high-time_low)\n",
    "            r=[abs((low-high)/(low*t_bw_trend))]*t_bw_trend\n",
    "            tm=[(high-low)/(low*threshold)]*t_bw_trend\n",
    "\n",
    "            returns.extend(r)\n",
    "            tmv.extend(tm)\n",
    "            low=x[i]\n",
    "            time_low=time\n",
    "            up=0\n",
    "            down=1\n",
    "        else:\n",
    "            pass\n",
    "    elif(down==1 and dc==1):\n",
    "        if(x[i]<=(1-threshold)*low):\n",
    "            up=0\n",
    "            down=1\n",
    "            low=x[i]\n",
    "            time_low=time\n",
    "        elif(x[i]>=(1+threshold)*low):\n",
    "\n",
    "            t_bw_trend=abs(time_high-time_low)\n",
    "            r=[abs((low-high)/(high*t_bw_trend))]*t_bw_trend\n",
    "            tm=[(low-high)/(high*threshold)]*t_bw_trend\n",
    "\n",
    "            returns.extend(r)\n",
    "            tmv.extend(tm)\n",
    "            high=x[i]\n",
    "            time_high=time\n",
    "            up=1\n",
    "            down=0\n",
    "        else:\n",
    "            pass\n",
    "    else:\n",
    "        pass\n",
    "     \n",
    "    \n",
    "    \n",
    "        "
   ]
  },
  {
   "cell_type": "code",
   "execution_count": 4,
   "id": "5683f269",
   "metadata": {},
   "outputs": [],
   "source": [
    "buffer_beginning=[returns[0]]*first_time\n",
    "returns.extend(buffer_beginning)\n",
    "buffer_end=[returns[len(returns)-1]]*(time-(len(returns)-1))\n",
    "returns.extend(buffer_end)\n",
    "\n",
    "returns=np.array(returns)\n",
    "\n",
    "buffer_beginning=[tmv[0]]*first_time\n",
    "tmv.extend(buffer_beginning)\n",
    "buffer_end=[tmv[len(tmv)-1]]*(time-(len(tmv)-1))\n",
    "tmv.extend(buffer_end)\n",
    "\n",
    "tmv=np.array(tmv)\n"
   ]
  },
  {
   "cell_type": "code",
   "execution_count": 5,
   "id": "5b5dbf47",
   "metadata": {},
   "outputs": [
    {
     "name": "stdout",
     "output_type": "stream",
     "text": [
      "Returns\n"
     ]
    },
    {
     "data": {
      "image/png": "[encoded data removed]",
      "text/plain": [
       "<Figure size 432x288 with 1 Axes>"
      ]
     },
     "metadata": {
      "needs_background": "light"
     },
     "output_type": "display_data"
    }
   ],
   "source": [
    "print(\"Returns\")\n",
    "plt.figure()\n",
    "plt.title('R Values v/s Time')\n",
    "plt.xlabel('Returns')\n",
    "plt.ylabel('Time')\n",
    "plt.plot(dates,returns)\n",
    "plt.show()\n",
    "\n"
   ]
  },
  {
   "cell_type": "code",
   "execution_count": 6,
   "id": "ede98bf3",
   "metadata": {},
   "outputs": [
    {
     "data": {
      "image/png": "[encoded data removed]",
      "text/plain": [
       "<Figure size 432x288 with 1 Axes>"
      ]
     },
     "metadata": {
      "needs_background": "light"
     },
     "output_type": "display_data"
    }
   ],
   "source": [
    "plt.figure()\n",
    "count, bins_count = np.histogram(returns, bins=10)\n",
    "pdf = count / sum(count)\n",
    "cdf = np.cumsum(pdf)\n",
    "plt.plot(bins_count[1:], pdf, color=\"red\", label=\"PDF\")\n",
    "plt.show()"
   ]
  },
  {
   "cell_type": "code",
   "execution_count": 7,
   "id": "31f9a5d3",
   "metadata": {},
   "outputs": [
    {
     "data": {
      "image/png": "[encoded data removed]",
      "text/plain": [
       "<Figure size 432x288 with 1 Axes>"
      ]
     },
     "metadata": {
      "needs_background": "light"
     },
     "output_type": "display_data"
    }
   ],
   "source": [
    "\n",
    "for i in range(len(returns)):\n",
    "    returns[i]=math.log(returns[i])\n",
    "\n",
    "plt.figure()\n",
    "plt.title('Log transformed R Values v/s Time')\n",
    "plt.xlabel('Log Returns')\n",
    "plt.ylabel('Time')\n",
    "plt.plot(dates,returns)\n",
    "plt.show()\n",
    "df['Returns']=returns\n",
    "df['TMV']=tmv\n",
    "\n"
   ]
  },
  {
   "cell_type": "code",
   "execution_count": 8,
   "id": "97197b46",
   "metadata": {},
   "outputs": [
    {
     "data": {
      "image/png": "[encoded data removed]",
      "text/plain": [
       "<Figure size 432x288 with 1 Axes>"
      ]
     },
     "metadata": {
      "needs_background": "light"
     },
     "output_type": "display_data"
    }
   ],
   "source": [
    "plt.figure()\n",
    "count, bins_count = np.histogram(df[\"Returns\"], bins=10)\n",
    "pdf = count / sum(count)\n",
    "cdf = np.cumsum(pdf)\n",
    "plt.title('PDF of log transformed R values')\n",
    "plt.plot(bins_count[1:], pdf, color=\"red\", label=\"PDF\")\n",
    "plt.show()\n",
    "\n"
   ]
  },
  {
   "cell_type": "code",
   "execution_count": 9,
   "id": "b0aa4c06",
   "metadata": {},
   "outputs": [],
   "source": [
    "\n",
    "df['Regime']=\" \"\n",
    "df[\"D_ret\"]=' '\n",
    "df[\"D_ret\"]=df[\"Close\"].pct_change()\n",
    "df[\"22_ret\"]=df[\"Close\"].pct_change(22)\n",
    "df[\"66_ret\"]=df[\"Close\"].pct_change(66)\n",
    "df[\"Vol\"]=df[\"Close\"].pct_change().rolling(22).std()\n",
    "df=df.dropna()\n",
    "# df.head()\n"
   ]
  },
  {
   "cell_type": "code",
   "execution_count": 10,
   "id": "e0483544",
   "metadata": {},
   "outputs": [
    {
     "name": "stdout",
     "output_type": "stream",
     "text": [
      "            Close   Returns       TMV     D_ret    22_ret    66_ret       Vol\n",
      "Close    1.000000 -0.297049  0.152081  0.007142  0.031772  0.053608 -0.290944\n",
      "Returns -0.297049  1.000000  0.043350 -0.015009 -0.018746  0.015912  0.470220\n",
      "TMV      0.152081  0.043350  1.000000  0.032051  0.100906  0.123882 -0.002935\n",
      "D_ret    0.007142 -0.015009  0.032051  1.000000  0.206941  0.118603  0.006819\n",
      "22_ret   0.031772 -0.018746  0.100906  0.206941  1.000000  0.558616 -0.299510\n",
      "66_ret   0.053608  0.015912  0.123882  0.118603  0.558616  1.000000 -0.295492\n",
      "Vol     -0.290944  0.470220 -0.002935  0.006819 -0.299510 -0.295492  1.000000\n"
     ]
    }
   ],
   "source": [
    "print(df.corr())"
   ]
  },
  {
   "cell_type": "code",
   "execution_count": 11,
   "id": "0a6d728e",
   "metadata": {},
   "outputs": [
    {
     "name": "stdout",
     "output_type": "stream",
     "text": [
      "          Returns    22_ret    66_ret       Vol\n",
      "Returns  1.000000 -0.195371 -0.135691  0.478316\n",
      "22_ret  -0.195371  1.000000  0.454675 -0.436338\n",
      "66_ret  -0.135691  0.454675  1.000000 -0.444789\n",
      "Vol      0.478316 -0.436338 -0.444789  1.000000\n"
     ]
    }
   ],
   "source": [
    "df['Date'] = pd.to_datetime(df['Date'], format='%Y-%m-%d')\n",
    "X_train=df.loc[(df['Date'] < '2003-04-30')]\n",
    "X=X_train.loc[:,[\"Returns\",\"22_ret\",\"66_ret\",\"Vol\"]] \n",
    "print(X.corr())\n",
    "\n",
    "\n",
    "\n"
   ]
  },
  {
   "cell_type": "code",
   "execution_count": 12,
   "id": "9b6f54d8",
   "metadata": {},
   "outputs": [],
   "source": [
    "from scipy.stats import poisson\n",
    "scores = list()\n",
    "models = list()\n",
    "for n_components in range(1, 5):\n",
    "    for idx in range(10):\n",
    "        model = hmm.GaussianHMM(n_components=n_components, random_state=idx)\n",
    "        model.fit(X)\n",
    "        models.append(model)\n",
    "        scores.append(model.score(X))\n",
    "model = models[np.argmax(scores)]\n"
   ]
  },
  {
   "cell_type": "code",
   "execution_count": null,
   "id": "eacb2226",
   "metadata": {},
   "outputs": [],
   "source": [
    "list_of_predictions=[]\n",
    "mstd=[]\n",
    "from datetime import datetime\n",
    "from dateutil import rrule\n",
    "\n",
    "start_date = datetime(2003, 5, 31)\n",
    "end_date = datetime(2022, 7, 31)\n",
    "# t=model.transmat_\n",
    "# m=model.means_\n",
    "# c=model.covars_\n",
    "pd.options.mode.chained_assignment = None\n",
    "\n",
    "from dateutil.relativedelta import relativedelta\n",
    "dt=start_date\n",
    "while(dt<end_date+relativedelta(days=1)):\n",
    "    X_train=df.loc[(df['Date'] <= dt)]\n",
    "    dates=X_train[\"Date\"]\n",
    "    X=X_train.loc[:,[\"Returns\",\"22_ret\",\"66_ret\",\"Vol\"]]\n",
    "    scores = list()\n",
    "    models = list()\n",
    "    for n_components in range(4,5):\n",
    "        for idx in range(1):\n",
    "            model = hmm.GaussianHMM(n_components=n_components,init_params=\"s\", random_state=idx)\n",
    "#             model.transmat_ = t\n",
    "#             model.means_ = m\n",
    "#             model.covars_ = np.array([np.diag(i) for i in c])\n",
    "            model.fit(X)\n",
    "            models.append(model)\n",
    "            scores.append(model.score(X))\n",
    "    model = models[np.argmax(scores)]\n",
    "#     t=model.transmat_\n",
    "#     m=model.means_\n",
    "#     c=model.covars_\n",
    "    pred=model.predict(X)\n",
    "    X_train[\"Regime\"]=pred\n",
    "    X_train[\"Regime\"]=X_train['Regime'].shift(1)\n",
    "    X_train[\"D_ret\"]=' '\n",
    "    X_train[\"D_ret\"]=X_train[\"Close\"].pct_change()\n",
    "    MEAN=X_train[[\"Regime\", \"D_ret\"]].groupby(\"Regime\").mean()\n",
    "    STD=X_train[[\"Regime\", \"D_ret\"]].groupby(\"Regime\").std()\n",
    "    list_of_predictions.append((dates,pred))\n",
    "    mstd.append((MEAN,STD))\n",
    "    dt=dt+relativedelta(months=1)\n",
    "\n",
    "    \n",
    "\n",
    "\n"
   ]
  },
  {
   "cell_type": "code",
   "execution_count": null,
   "id": "807729e3",
   "metadata": {},
   "outputs": [],
   "source": [
    "excel=pd.DataFrame()\n",
    "col=0\n",
    "for i in range(0,len(list_of_predictions)):\n",
    "    df_add=pd.DataFrame()\n",
    "    df_mstd=pd.DataFrame()\n",
    "    df_rank=pd.DataFrame()\n",
    "    df_add[str(col)]=list_of_predictions[i][0]\n",
    "    col=col+1\n",
    "    df_add[\"Pred\"]=list_of_predictions[i][1]\n",
    "    col=col+1\n",
    "    df_mstd[\"Mean\"]=mstd[i][0][\"D_ret\"].to_numpy()\n",
    "    df_mstd[\"STD\"]=mstd[i][1][\"D_ret\"].to_numpy()\n",
    "    df_mstd[\"Vals\"]=df_mstd[\"Mean\"]/df_mstd[\"STD\"]\n",
    "    nums=np.array([0,1,2,3])\n",
    "    df_mstd[\"Regime\"]=nums\n",
    "    df_mstd=df_mstd.sort_values(by=[\"Vals\"]).reset_index(drop=True)\n",
    "    df_rank[\"Rank\"]=df_mstd[\"Regime\"]\n",
    "    dict_map = {df_rank[\"Rank\"][0]:'WORST' ,  df_rank[\"Rank\"][1]:'SECOND WORST', df_rank[\"Rank\"][2]:'SECOND BEST', df_rank[\"Rank\"][3]:'BEST'}\n",
    "    df_add[\"Pred\"] = df_add[\"Pred\"].map(dict_map)\n",
    "    excel = pd.concat([excel, df_add], axis=1)\n",
    "    \n",
    "\n",
    "\n",
    "excel.to_excel(\"/Users/devanshjoshi/Desktop/output1.xlsx\")\n",
    "\n",
    "    \n",
    "\n",
    "    "
   ]
  }
 ],
 "metadata": {
  "kernelspec": {
   "display_name": "Python 3 (ipykernel)",
   "language": "python",
   "name": "python3"
  },
  "language_info": {
   "codemirror_mode": {
    "name": "ipython",
    "version": 3
   },
   "file_extension": ".py",
   "mimetype": "text/x-python",
   "name": "python",
   "nbconvert_exporter": "python",
   "pygments_lexer": "ipython3",
   "version": "3.8.12"
  }
 },
 "nbformat": 4,
 "nbformat_minor": 5
}
